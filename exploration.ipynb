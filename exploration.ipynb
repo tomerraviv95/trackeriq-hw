{
 "cells": [
  {
   "cell_type": "code",
   "execution_count": 212,
   "id": "2d55dc80",
   "metadata": {},
   "outputs": [],
   "source": [
    "import pandas as pd\n",
    "from data_scientist import load_hist_df,get_key_value,get_dist\n",
    "import matplotlib.pyplot as plt\n",
    "from collections import Counter"
   ]
  },
  {
   "cell_type": "code",
   "execution_count": 125,
   "id": "fab44677",
   "metadata": {},
   "outputs": [
    {
     "data": {
      "text/html": [
       "<div>\n",
       "<style scoped>\n",
       "    .dataframe tbody tr th:only-of-type {\n",
       "        vertical-align: middle;\n",
       "    }\n",
       "\n",
       "    .dataframe tbody tr th {\n",
       "        vertical-align: top;\n",
       "    }\n",
       "\n",
       "    .dataframe thead th {\n",
       "        text-align: right;\n",
       "    }\n",
       "</style>\n",
       "<table border=\"1\" class=\"dataframe\">\n",
       "  <thead>\n",
       "    <tr style=\"text-align: right;\">\n",
       "      <th></th>\n",
       "      <th>ID</th>\n",
       "      <th>hist</th>\n",
       "    </tr>\n",
       "  </thead>\n",
       "  <tbody>\n",
       "    <tr>\n",
       "      <th>0</th>\n",
       "      <td>1</td>\n",
       "      <td>[{'k': 'eventCategory=Management\\teventName=Ge...</td>\n",
       "    </tr>\n",
       "    <tr>\n",
       "      <th>1</th>\n",
       "      <td>2</td>\n",
       "      <td>[{'k': 'eventCategory=Management\\teventName=Ge...</td>\n",
       "    </tr>\n",
       "    <tr>\n",
       "      <th>2</th>\n",
       "      <td>3</td>\n",
       "      <td>[{'k': 'eventCategory=Management\\teventName=Ge...</td>\n",
       "    </tr>\n",
       "    <tr>\n",
       "      <th>3</th>\n",
       "      <td>4</td>\n",
       "      <td>[{'k': 'errorCode=UserNotFoundException\\tevent...</td>\n",
       "    </tr>\n",
       "    <tr>\n",
       "      <th>4</th>\n",
       "      <td>5</td>\n",
       "      <td>[{'k': 'eventCategory=Data\\teventName=CopyObje...</td>\n",
       "    </tr>\n",
       "  </tbody>\n",
       "</table>\n",
       "</div>"
      ],
      "text/plain": [
       "   ID                                               hist\n",
       "0   1  [{'k': 'eventCategory=Management\\teventName=Ge...\n",
       "1   2  [{'k': 'eventCategory=Management\\teventName=Ge...\n",
       "2   3  [{'k': 'eventCategory=Management\\teventName=Ge...\n",
       "3   4  [{'k': 'errorCode=UserNotFoundException\\tevent...\n",
       "4   5  [{'k': 'eventCategory=Data\\teventName=CopyObje..."
      ]
     },
     "execution_count": 125,
     "metadata": {},
     "output_type": "execute_result"
    }
   ],
   "source": [
    "df_clu = pd.read_csv(\"clusters_histogram.csv\")\n",
    "df_clu.head()"
   ]
  },
  {
   "cell_type": "code",
   "execution_count": 126,
   "id": "95579b2d",
   "metadata": {},
   "outputs": [
    {
     "data": {
      "text/html": [
       "<div>\n",
       "<style scoped>\n",
       "    .dataframe tbody tr th:only-of-type {\n",
       "        vertical-align: middle;\n",
       "    }\n",
       "\n",
       "    .dataframe tbody tr th {\n",
       "        vertical-align: top;\n",
       "    }\n",
       "\n",
       "    .dataframe thead th {\n",
       "        text-align: right;\n",
       "    }\n",
       "</style>\n",
       "<table border=\"1\" class=\"dataframe\">\n",
       "  <thead>\n",
       "    <tr style=\"text-align: right;\">\n",
       "      <th></th>\n",
       "      <th>ID</th>\n",
       "    </tr>\n",
       "  </thead>\n",
       "  <tbody>\n",
       "    <tr>\n",
       "      <th>count</th>\n",
       "      <td>112.000000</td>\n",
       "    </tr>\n",
       "    <tr>\n",
       "      <th>mean</th>\n",
       "      <td>56.500000</td>\n",
       "    </tr>\n",
       "    <tr>\n",
       "      <th>std</th>\n",
       "      <td>32.475632</td>\n",
       "    </tr>\n",
       "    <tr>\n",
       "      <th>min</th>\n",
       "      <td>1.000000</td>\n",
       "    </tr>\n",
       "    <tr>\n",
       "      <th>25%</th>\n",
       "      <td>28.750000</td>\n",
       "    </tr>\n",
       "    <tr>\n",
       "      <th>50%</th>\n",
       "      <td>56.500000</td>\n",
       "    </tr>\n",
       "    <tr>\n",
       "      <th>75%</th>\n",
       "      <td>84.250000</td>\n",
       "    </tr>\n",
       "    <tr>\n",
       "      <th>max</th>\n",
       "      <td>112.000000</td>\n",
       "    </tr>\n",
       "  </tbody>\n",
       "</table>\n",
       "</div>"
      ],
      "text/plain": [
       "               ID\n",
       "count  112.000000\n",
       "mean    56.500000\n",
       "std     32.475632\n",
       "min      1.000000\n",
       "25%     28.750000\n",
       "50%     56.500000\n",
       "75%     84.250000\n",
       "max    112.000000"
      ]
     },
     "execution_count": 126,
     "metadata": {},
     "output_type": "execute_result"
    }
   ],
   "source": [
    "df_clu.describe()"
   ]
  },
  {
   "cell_type": "code",
   "execution_count": 127,
   "id": "f75e1e9b",
   "metadata": {},
   "outputs": [
    {
     "data": {
      "text/html": [
       "<div>\n",
       "<style scoped>\n",
       "    .dataframe tbody tr th:only-of-type {\n",
       "        vertical-align: middle;\n",
       "    }\n",
       "\n",
       "    .dataframe tbody tr th {\n",
       "        vertical-align: top;\n",
       "    }\n",
       "\n",
       "    .dataframe thead th {\n",
       "        text-align: right;\n",
       "    }\n",
       "</style>\n",
       "<table border=\"1\" class=\"dataframe\">\n",
       "  <thead>\n",
       "    <tr style=\"text-align: right;\">\n",
       "      <th></th>\n",
       "      <th>ID</th>\n",
       "      <th>hist</th>\n",
       "    </tr>\n",
       "  </thead>\n",
       "  <tbody>\n",
       "    <tr>\n",
       "      <th>0</th>\n",
       "      <td>SPSSN4478549194297154363</td>\n",
       "      <td>[{'k': 'errorCode=ObjectLockConfigurationNotFo...</td>\n",
       "    </tr>\n",
       "    <tr>\n",
       "      <th>1</th>\n",
       "      <td>SPSSNm6890555198667692826</td>\n",
       "      <td>[{'k': 'eventCategory=Management\\teventName=Li...</td>\n",
       "    </tr>\n",
       "    <tr>\n",
       "      <th>2</th>\n",
       "      <td>SPSSNm4080651934773293128</td>\n",
       "      <td>[{'k': 'eventCategory=Management\\teventName=Ge...</td>\n",
       "    </tr>\n",
       "    <tr>\n",
       "      <th>3</th>\n",
       "      <td>SPSSN6871687774071215214</td>\n",
       "      <td>[{'k': 'eventCategory=Management\\teventName=Ge...</td>\n",
       "    </tr>\n",
       "    <tr>\n",
       "      <th>4</th>\n",
       "      <td>SPSSN3119038093632912926</td>\n",
       "      <td>[{'k': 'eventCategory=Management\\teventName=Ge...</td>\n",
       "    </tr>\n",
       "  </tbody>\n",
       "</table>\n",
       "</div>"
      ],
      "text/plain": [
       "                          ID  \\\n",
       "0   SPSSN4478549194297154363   \n",
       "1  SPSSNm6890555198667692826   \n",
       "2  SPSSNm4080651934773293128   \n",
       "3   SPSSN6871687774071215214   \n",
       "4   SPSSN3119038093632912926   \n",
       "\n",
       "                                                hist  \n",
       "0  [{'k': 'errorCode=ObjectLockConfigurationNotFo...  \n",
       "1  [{'k': 'eventCategory=Management\\teventName=Li...  \n",
       "2  [{'k': 'eventCategory=Management\\teventName=Ge...  \n",
       "3  [{'k': 'eventCategory=Management\\teventName=Ge...  \n",
       "4  [{'k': 'eventCategory=Management\\teventName=Ge...  "
      ]
     },
     "execution_count": 127,
     "metadata": {},
     "output_type": "execute_result"
    }
   ],
   "source": [
    "df_ses = pd.read_csv(\"sessions_histogram.csv\")\n",
    "df_ses.head()"
   ]
  },
  {
   "cell_type": "code",
   "execution_count": 128,
   "id": "cc520024",
   "metadata": {},
   "outputs": [
    {
     "data": {
      "text/html": [
       "<div>\n",
       "<style scoped>\n",
       "    .dataframe tbody tr th:only-of-type {\n",
       "        vertical-align: middle;\n",
       "    }\n",
       "\n",
       "    .dataframe tbody tr th {\n",
       "        vertical-align: top;\n",
       "    }\n",
       "\n",
       "    .dataframe thead th {\n",
       "        text-align: right;\n",
       "    }\n",
       "</style>\n",
       "<table border=\"1\" class=\"dataframe\">\n",
       "  <thead>\n",
       "    <tr style=\"text-align: right;\">\n",
       "      <th></th>\n",
       "      <th>ID</th>\n",
       "      <th>hist</th>\n",
       "    </tr>\n",
       "  </thead>\n",
       "  <tbody>\n",
       "    <tr>\n",
       "      <th>count</th>\n",
       "      <td>119</td>\n",
       "      <td>119</td>\n",
       "    </tr>\n",
       "    <tr>\n",
       "      <th>unique</th>\n",
       "      <td>119</td>\n",
       "      <td>117</td>\n",
       "    </tr>\n",
       "    <tr>\n",
       "      <th>top</th>\n",
       "      <td>SPSSN4478549194297154363</td>\n",
       "      <td>[{'k': 'errorCode=AccessDenied\\teventCategory=...</td>\n",
       "    </tr>\n",
       "    <tr>\n",
       "      <th>freq</th>\n",
       "      <td>1</td>\n",
       "      <td>3</td>\n",
       "    </tr>\n",
       "  </tbody>\n",
       "</table>\n",
       "</div>"
      ],
      "text/plain": [
       "                              ID  \\\n",
       "count                        119   \n",
       "unique                       119   \n",
       "top     SPSSN4478549194297154363   \n",
       "freq                           1   \n",
       "\n",
       "                                                     hist  \n",
       "count                                                 119  \n",
       "unique                                                117  \n",
       "top     [{'k': 'errorCode=AccessDenied\\teventCategory=...  \n",
       "freq                                                    3  "
      ]
     },
     "execution_count": 128,
     "metadata": {},
     "output_type": "execute_result"
    }
   ],
   "source": [
    "df_ses.describe()"
   ]
  },
  {
   "cell_type": "code",
   "execution_count": 129,
   "id": "b4f2ca4d",
   "metadata": {},
   "outputs": [],
   "source": [
    "ses_dict = load_hist_df(df_ses)\n",
    "clu_dict = load_hist_df(df_clu)"
   ]
  },
  {
   "cell_type": "code",
   "execution_count": 130,
   "id": "c144053e",
   "metadata": {},
   "outputs": [],
   "source": [
    "# Fisrt problem - even as users/clusters are intersecting, the dsitances are still quite close to 1.\n",
    "# Check the distribution of the costs - is it similar across clusters? is it similar across sessions? perhaps it is not normalized\n",
    "# verify that same actions have the same costs"
   ]
  },
  {
   "cell_type": "code",
   "execution_count": 131,
   "id": "8e9d3089",
   "metadata": {},
   "outputs": [],
   "source": [
    "# Questions:\n",
    "# What are the cost values? What do they repesent? How they are set? costs? clicks?"
   ]
  },
  {
   "cell_type": "code",
   "execution_count": 224,
   "id": "50a5c523",
   "metadata": {},
   "outputs": [],
   "source": [
    "def get_costs_from_dict(target_dict):\n",
    "    c_sums = []\n",
    "    for cluster_ind,actions in target_dict.items():\n",
    "        c_sum = 0\n",
    "        for action in actions:\n",
    "            c_sum += action['c']\n",
    "        c_sums.append(c_sum)\n",
    "    return c_sums"
   ]
  },
  {
   "cell_type": "code",
   "execution_count": 225,
   "id": "64edddac",
   "metadata": {},
   "outputs": [],
   "source": [
    "c_sums = get_costs_from_dict(clu_dict)\n",
    "s_sums = get_costs_from_dict(ses_dict)"
   ]
  },
  {
   "cell_type": "code",
   "execution_count": 226,
   "id": "33294fec",
   "metadata": {},
   "outputs": [],
   "source": [
    "s_sums_filtered =list(filter(lambda x: 0<x and x<100, s_sums))"
   ]
  },
  {
   "cell_type": "code",
   "execution_count": 227,
   "id": "c265056f",
   "metadata": {},
   "outputs": [
    {
     "name": "stderr",
     "output_type": "stream",
     "text": [
      "No artists with labels found to put in legend.  Note that artists whose label start with an underscore are ignored when legend() is called with no argument.\n"
     ]
    },
    {
     "data": {
      "text/plain": [
       "<matplotlib.legend.Legend at 0x262ee05cc70>"
      ]
     },
     "execution_count": 227,
     "metadata": {},
     "output_type": "execute_result"
    },
    {
     "data": {
      "image/png": "[encoded data removed]",
      "text/plain": [
       "<Figure size 1152x432 with 3 Axes>"
      ]
     },
     "metadata": {
      "needs_background": "light"
     },
     "output_type": "display_data"
    }
   ],
   "source": [
    "fig, axes = plt.subplots(1, 3, sharey='row', figsize=(16, 6))\n",
    "axes[0].hist(s_sums,bins=20)\n",
    "axes[1].hist(s_sums_filtered,bins=20,color='red')\n",
    "axes[2].hist(c_sums,bins=20,color = 'green')\n",
    "axes[0].set_title('Sessions Cost',size=20)\n",
    "axes[1].set_title('Sessions Cost Between 0 and 10',size=20)\n",
    "axes[2].set_title('Clusters Cost',size=20)\n",
    "fig.supylabel('Count of Sessions/Clusters',size=20)\n",
    "fig.supxlabel(\"Sum of Actions' Cost\",size=20)\n",
    "plt.legend(loc='upper right')"
   ]
  },
  {
   "cell_type": "code",
   "execution_count": 136,
   "id": "b83d1946",
   "metadata": {},
   "outputs": [],
   "source": [
    "# The two distributions of costs of the sessions and the clusters seem quite different\n",
    "# one should first get rid of outliers, for example by setting some maximum value to the sessions, and then normalize them both to the same space"
   ]
  },
  {
   "cell_type": "code",
   "execution_count": 137,
   "id": "e3958ff1",
   "metadata": {},
   "outputs": [],
   "source": [
    "# Let's examine the actions abit more, and find ones which action's cost is abnormal"
   ]
  },
  {
   "cell_type": "code",
   "execution_count": 187,
   "id": "7341b1bc",
   "metadata": {},
   "outputs": [],
   "source": [
    "actions_values = {}\n",
    "for k in ses_dict.keys():\n",
    "    for hist in ses_dict.get(k):\n",
    "        actions_values[hist['k']] = hist['c']"
   ]
  },
  {
   "cell_type": "code",
   "execution_count": 188,
   "id": "ce2e09e6",
   "metadata": {},
   "outputs": [],
   "source": [
    "values_only = list(actions_values.values())\n",
    "values_only.sort()"
   ]
  },
  {
   "cell_type": "code",
   "execution_count": 204,
   "id": "0c89cc79",
   "metadata": {},
   "outputs": [],
   "source": [
    "outlier_value = 100"
   ]
  },
  {
   "cell_type": "code",
   "execution_count": 205,
   "id": "f72fdc61",
   "metadata": {},
   "outputs": [],
   "source": [
    "outlier_actions = list(set([k for k,v in actions_values.items() if v > outlier_value]))"
   ]
  },
  {
   "cell_type": "code",
   "execution_count": 206,
   "id": "37d4457b",
   "metadata": {},
   "outputs": [
    {
     "data": {
      "text/plain": [
       "10"
      ]
     },
     "execution_count": 206,
     "metadata": {},
     "output_type": "execute_result"
    }
   ],
   "source": [
    "len(outlier_actions)"
   ]
  },
  {
   "cell_type": "code",
   "execution_count": 228,
   "id": "815065fa",
   "metadata": {},
   "outputs": [
    {
     "data": {
      "text/plain": [
       "['eventCategory=Management\\teventName=ListImages\\teventSource=ecr.amazonaws.com\\teventType=AwsApiCall\\treadOnly=True\\trecipientAccountId=333333333333\\trequestParameters_repositoryName=trackerdetect/trackeriq-job\\tuserIdentity_accountId=333333333333\\tuserIdentity_sessionContext_attributes_mfaAuthenticated=false\\t',\n",
       " 'errorCode=EntityNotFoundException\\teventCategory=Management\\teventName=DeleteTable\\teventSource=glue.amazonaws.com\\teventType=AwsApiCall\\treadOnly=False\\trecipientAccountId=333333333333\\tuserIdentity_accountId=333333333333\\tuserIdentity_sessionContext_attributes_mfaAuthenticated=false\\t',\n",
       " 'eventCategory=Management\\teventName=ListImages\\teventSource=ecr.amazonaws.com\\teventType=AwsApiCall\\treadOnly=True\\trecipientAccountId=333333333333\\trequestParameters_repositoryName=trackerdetect/trackeriq-audit\\tuserIdentity_accountId=333333333333\\tuserIdentity_sessionContext_attributes_mfaAuthenticated=false\\t',\n",
       " 'eventCategory=Management\\teventName=ListImages\\teventSource=ecr.amazonaws.com\\teventType=AwsApiCall\\treadOnly=True\\trecipientAccountId=333333333333\\trequestParameters_repositoryName=trackerdetect/trackeriq-db\\tuserIdentity_accountId=333333333333\\tuserIdentity_sessionContext_attributes_mfaAuthenticated=false\\t',\n",
       " 'eventCategory=Management\\teventName=ListImages\\teventSource=ecr.amazonaws.com\\teventType=AwsApiCall\\treadOnly=True\\trecipientAccountId=333333333333\\trequestParameters_repositoryName=trackerdetect/trackeriq-scheduler\\tuserIdentity_accountId=333333333333\\tuserIdentity_sessionContext_attributes_mfaAuthenticated=false\\t',\n",
       " 'eventCategory=Management\\teventName=ListImages\\teventSource=ecr.amazonaws.com\\teventType=AwsApiCall\\treadOnly=True\\trecipientAccountId=333333333333\\trequestParameters_repositoryName=trackerdetect/trackeriq-frontend\\tuserIdentity_accountId=333333333333\\tuserIdentity_sessionContext_attributes_mfaAuthenticated=false\\t',\n",
       " 'eventCategory=Management\\teventName=ListImages\\teventSource=ecr.amazonaws.com\\teventType=AwsApiCall\\treadOnly=True\\trecipientAccountId=333333333333\\trequestParameters_repositoryName=trackerdetect/trackeriq-acm\\tuserIdentity_accountId=333333333333\\tuserIdentity_sessionContext_attributes_mfaAuthenticated=false\\t',\n",
       " 'eventCategory=Management\\teventName=ListImages\\teventSource=ecr.amazonaws.com\\teventType=AwsApiCall\\treadOnly=True\\trecipientAccountId=333333333333\\trequestParameters_repositoryName=trackerdetect/trackeriq-backoffice\\tuserIdentity_accountId=333333333333\\tuserIdentity_sessionContext_attributes_mfaAuthenticated=false\\t',\n",
       " 'eventCategory=Management\\teventName=ListImages\\teventSource=ecr.amazonaws.com\\teventType=AwsApiCall\\treadOnly=True\\trecipientAccountId=333333333333\\trequestParameters_repositoryName=trackerdetect/trackeriq-analysis-model\\tuserIdentity_accountId=333333333333\\tuserIdentity_sessionContext_attributes_mfaAuthenticated=false\\t',\n",
       " 'eventCategory=Management\\teventName=DeleteTable\\teventSource=glue.amazonaws.com\\teventType=AwsApiCall\\treadOnly=False\\trecipientAccountId=333333333333\\tuserIdentity_accountId=333333333333\\tuserIdentity_sessionContext_attributes_mfaAuthenticated=false\\t']"
      ]
     },
     "execution_count": 228,
     "metadata": {},
     "output_type": "execute_result"
    }
   ],
   "source": [
    "outlier_actions"
   ]
  },
  {
   "cell_type": "code",
   "execution_count": 193,
   "id": "b7d65e1a",
   "metadata": {},
   "outputs": [],
   "source": [
    "# Let's find key-value pairs that are highly correlated with these abnormal values"
   ]
  },
  {
   "cell_type": "code",
   "execution_count": 209,
   "id": "10b3eb9e",
   "metadata": {},
   "outputs": [],
   "source": [
    "total_ses_dist = get_dist(ses_dict)"
   ]
  },
  {
   "cell_type": "code",
   "execution_count": 215,
   "id": "a7ddfad7",
   "metadata": {},
   "outputs": [
    {
     "data": {
      "text/plain": [
       "{'errorCode': Counter({'ObjectLockConfigurationNotFoundError': 11,\n",
       "          'NoSuchKey': 8,\n",
       "          'NoSuchPublicAccessBlockConfiguration': 19,\n",
       "          'NoSuchBucketPolicy': 15,\n",
       "          'AccessDenied': 76,\n",
       "          'OwnershipControlsNotFoundError': 9,\n",
       "          'NoSuchWebsiteConfiguration': 4,\n",
       "          'InvalidAccessException': 16,\n",
       "          'ResourceNotFoundException': 15,\n",
       "          'OptInRequiredException': 2,\n",
       "          'ValidationException': 4,\n",
       "          'RequestTimeout': 3,\n",
       "          'Client.InvalidID': 1,\n",
       "          'Client.MissingParameter': 1,\n",
       "          'ServerSideEncryptionConfigurationNotFoundError': 2,\n",
       "          'NotFoundException': 2,\n",
       "          'InvalidInputException': 3,\n",
       "          'IncompleteBody': 1,\n",
       "          'InvalidRequestException': 1,\n",
       "          'ForbiddenException': 1,\n",
       "          'UserNotFoundException': 3,\n",
       "          'InvalidPasswordException': 1,\n",
       "          'InvalidParameterException': 4,\n",
       "          'Client.InvalidParameterValue': 1,\n",
       "          'InternalFailure': 1,\n",
       "          'InternalError': 1,\n",
       "          'EntityNotFoundException': 2}),\n",
       " 'eventCategory': Counter({'Management': 718, 'Data': 73}),\n",
       " 'eventName': Counter({'GetBucketObjectLockConfiguration': 11,\n",
       "          'ListObjects': 17,\n",
       "          'GetObjectTagging': 11,\n",
       "          'ListClusters': 6,\n",
       "          'DescribeRepositories': 5,\n",
       "          'GetCallerIdentity': 2,\n",
       "          'GetBucketLocation': 2,\n",
       "          'GetObject': 13,\n",
       "          'GetBucketEncryption': 7,\n",
       "          'GetBucketAcl': 18,\n",
       "          'GetObjectAcl': 7,\n",
       "          'GetBucketPublicAccessBlock': 25,\n",
       "          'GetAccountPublicAccessBlock': 12,\n",
       "          'ListAccessPoints': 15,\n",
       "          'GetBucketPolicyStatus': 24,\n",
       "          'ListBuckets': 6,\n",
       "          'GetBucketVersioning': 16,\n",
       "          'GetBucketOwnershipControls': 21,\n",
       "          'ListObjectVersions': 5,\n",
       "          'GetBucketPolicy': 4,\n",
       "          'GetBucketWebsite': 4,\n",
       "          'CopyObject': 3,\n",
       "          'DeleteObject': 2,\n",
       "          'DescribeUserPool': 6,\n",
       "          'DescribeUserPoolClient': 1,\n",
       "          'ListResources': 17,\n",
       "          'DescribeAccountAttributes': 9,\n",
       "          'DescribeHub': 23,\n",
       "          'GetUICustomization': 3,\n",
       "          'ListApplications': 23,\n",
       "          'ListSinks': 20,\n",
       "          'DescribeRuntimeVersions': 1,\n",
       "          'ListGroups': 5,\n",
       "          'DescribeCanariesLastRun': 1,\n",
       "          'DescribeCanaries': 1,\n",
       "          'ConsoleLogin': 9,\n",
       "          'SearchInsights': 1,\n",
       "          'GetResourceCollection': 1,\n",
       "          'DescribeRegions': 30,\n",
       "          'GetLambdaFunctionRecommendations': 2,\n",
       "          'ListIndexes': 16,\n",
       "          'GetPolicy20150331v2': 1,\n",
       "          'CheckMfa': 3,\n",
       "          'ListEnvironments': 2,\n",
       "          'DescribeEnvironmentMemberships': 2,\n",
       "          'DescribeEnvironments': 2,\n",
       "          'ListStudios': 1,\n",
       "          'ListReleases': 1,\n",
       "          'CreateStudio': 1,\n",
       "          'DescribeVpcs': 2,\n",
       "          'ListUserImportJobs': 5,\n",
       "          'GetPolicy20150331': 5,\n",
       "          'ListEventSourceMappings20150331': 6,\n",
       "          'GetAccountSettings20160819': 3,\n",
       "          'GetFunctionEventInvokeConfig': 3,\n",
       "          'DescribeStackResources': 3,\n",
       "          'ListVersionsByFunction20150331': 3,\n",
       "          'ListFunctions20150331': 3,\n",
       "          'ListProvisionedConcurrencyConfigs': 3,\n",
       "          'ListFunctionUrlConfigs': 3,\n",
       "          'GetFunction20150331v2': 3,\n",
       "          'ListTags20170331': 3,\n",
       "          'DescribeCluster': 9,\n",
       "          'ListAliases20150331': 3,\n",
       "          'GetResources': 4,\n",
       "          'DescribeImages': 10,\n",
       "          'BatchGetRepositoryScanningConfiguration': 2,\n",
       "          'DescribePullThroughCacheRules': 1,\n",
       "          'GetRegistryScanningConfiguration': 3,\n",
       "          'UploadPart': 9,\n",
       "          'PutObject': 4,\n",
       "          'DescribeImageReplicationStatus': 1,\n",
       "          'CreateTags': 3,\n",
       "          'UploadPartCopy': 2,\n",
       "          'DescribeRegistry': 2,\n",
       "          'DescribeRule': 2,\n",
       "          'GetFunctionCodeSigningConfig': 2,\n",
       "          'DescribeEventBus': 1,\n",
       "          'ListRules': 4,\n",
       "          'ListRegistries': 4,\n",
       "          'ListEventBuses': 2,\n",
       "          'ListTargetsByRule': 3,\n",
       "          'GetRuntimeManagementConfig': 2,\n",
       "          'ListSchemas': 3,\n",
       "          'ListTagsForResource': 1,\n",
       "          'UpdateCrawler': 7,\n",
       "          'SearchTables': 6,\n",
       "          'GetCrawler': 5,\n",
       "          'StartCrawler': 5,\n",
       "          'GetConnections': 5,\n",
       "          'BatchGetCrawlers': 5,\n",
       "          'GetTableVersion': 4,\n",
       "          'GetClassifiers': 3,\n",
       "          'DeleteTable': 6,\n",
       "          'GetTags': 5,\n",
       "          'GetSecurityConfigurations': 2,\n",
       "          'GetCrawlerMetrics': 5,\n",
       "          'GetDatabase': 6,\n",
       "          'GetTableVersions': 4,\n",
       "          'GetDatabases': 6,\n",
       "          'GetTable': 4,\n",
       "          'ListCrawls': 5,\n",
       "          'ListCrawlers': 5,\n",
       "          'ListFargateProfiles': 2,\n",
       "          'AccessKubernetesApi': 2,\n",
       "          'ListUserPoolClients': 2,\n",
       "          'ListUsers': 10,\n",
       "          'ListIdentityProviders': 2,\n",
       "          'ListResourceServers': 2,\n",
       "          'GetUserPoolMfaConfig': 2,\n",
       "          'ListIdentityPools': 6,\n",
       "          'ListUserPools': 6,\n",
       "          'DescribeUserPoolDomain': 2,\n",
       "          'ListDataCatalogs': 2,\n",
       "          'StartQueryExecution': 2,\n",
       "          'GetQueryRuntimeStatistics': 1,\n",
       "          'BatchGetQueryExecution': 1,\n",
       "          'DescribeSecurityGroups': 1,\n",
       "          'GetQueryResults': 1,\n",
       "          'GetTables': 2,\n",
       "          'ListWorkGroups': 2,\n",
       "          'DescribeSubnets': 1,\n",
       "          'ListQueryExecutions': 2,\n",
       "          'GetWorkGroup': 2,\n",
       "          'DescribeKey': 1,\n",
       "          'GetQueryExecution': 1,\n",
       "          'GetCatalogImportStatus': 2,\n",
       "          'AdminCreateUser': 4,\n",
       "          'DescribeNodegroup': 4,\n",
       "          'ListNodegroups': 1,\n",
       "          'ListIdentityProviderConfigs': 1,\n",
       "          'ListLinks': 1,\n",
       "          'CreateTable': 1,\n",
       "          'TerminateInstanceInAutoScalingGroup': 2,\n",
       "          'ListTypes': 1,\n",
       "          'ListStateMachines': 2,\n",
       "          'ListServices': 2,\n",
       "          'ListStacks': 2,\n",
       "          'GetRestApis': 1,\n",
       "          'DescribeLogGroups': 3,\n",
       "          'AdminDeleteUser': 3,\n",
       "          'ListConfigurationSets': 1,\n",
       "          'GetSMSSandboxAccountStatus': 1,\n",
       "          'ListIdentities': 1,\n",
       "          'GetLogEvents': 4,\n",
       "          'DescribeLogStreams': 4,\n",
       "          'AdminSetUserPassword': 7,\n",
       "          'ListImages': 8,\n",
       "          'BatchGetImage': 8,\n",
       "          'GetDownloadUrlForLayer': 8,\n",
       "          'AssumeRoleWithWebIdentity': 2,\n",
       "          'DescribeNetworkInsightsAnalyses': 1,\n",
       "          'DescribeNetworkInsightsPaths': 1,\n",
       "          'DescribeInstances': 3,\n",
       "          'DescribeNetworkInterfaces': 1,\n",
       "          'StartNetworkInsightsAnalysis': 1,\n",
       "          'CreateNetworkInsightsPath': 1,\n",
       "          'ListSubscriptionsByTopic': 2,\n",
       "          'GetConsolidatedReport': 1,\n",
       "          'ListWorkloads': 1,\n",
       "          'TestEventPattern': 1,\n",
       "          'GetWebACLForResource': 1,\n",
       "          'AdminUpdateUserAttributes': 1,\n",
       "          'AdminDisableUser': 1,\n",
       "          'AdminListGroupsForUser': 1,\n",
       "          'AdminGetUser': 1,\n",
       "          'DescribePackages': 1,\n",
       "          'ListCollections': 1,\n",
       "          'GetResourcePolicy': 1,\n",
       "          'GetDataCatalogEncryptionSettings': 1,\n",
       "          'DeleteDatabase': 1,\n",
       "          'DescribeReservedInstances': 1,\n",
       "          'GetPoliciesStats': 1,\n",
       "          'ListPipelines': 1,\n",
       "          'ListDomainNames': 1,\n",
       "          'ListVersions': 1,\n",
       "          'CreateCrawler': 1,\n",
       "          'ListSecurityConfigs': 1,\n",
       "          'GetAccountSettings': 1,\n",
       "          'GetClassifier': 1,\n",
       "          'CreateDatabase': 1,\n",
       "          'ListSecrets': 1}),\n",
       " 'eventSource': Counter({'s3.amazonaws.com': 238,\n",
       "          'ecs.amazonaws.com': 2,\n",
       "          'ecr.amazonaws.com': 46,\n",
       "          'sts.amazonaws.com': 4,\n",
       "          'cognito-idp.amazonaws.com': 60,\n",
       "          'ram.amazonaws.com': 17,\n",
       "          'ec2.amazonaws.com': 54,\n",
       "          'securityhub.amazonaws.com': 23,\n",
       "          'servicecatalog-appregistry.amazonaws.com': 22,\n",
       "          'oam.amazonaws.com': 21,\n",
       "          'synthetics.amazonaws.com': 4,\n",
       "          'signin.amazonaws.com': 12,\n",
       "          'devops-guru.amazonaws.com': 2,\n",
       "          'compute-optimizer.amazonaws.com': 2,\n",
       "          'resource-explorer-2.amazonaws.com': 16,\n",
       "          'lambda.amazonaws.com': 43,\n",
       "          'cloud9.amazonaws.com': 6,\n",
       "          'elasticmapreduce.amazonaws.com': 3,\n",
       "          'emr-serverless.amazonaws.com': 1,\n",
       "          'cloudformation.amazonaws.com': 6,\n",
       "          'eks.amazonaws.com': 23,\n",
       "          'tagging.amazonaws.com': 4,\n",
       "          'schemas.amazonaws.com': 7,\n",
       "          'events.amazonaws.com': 14,\n",
       "          'glue.amazonaws.com': 99,\n",
       "          'cognito-identity.amazonaws.com': 6,\n",
       "          'athena.amazonaws.com': 16,\n",
       "          'kms.amazonaws.com': 1,\n",
       "          'resource-groups.amazonaws.com': 3,\n",
       "          'autoscaling.amazonaws.com': 2,\n",
       "          'states.amazonaws.com': 2,\n",
       "          'apprunner.amazonaws.com': 2,\n",
       "          'apigateway.amazonaws.com': 1,\n",
       "          'logs.amazonaws.com': 11,\n",
       "          'ses.amazonaws.com': 2,\n",
       "          'sns.amazonaws.com': 3,\n",
       "          'wellarchitected.amazonaws.com': 2,\n",
       "          'wafv2.amazonaws.com': 1,\n",
       "          'es.amazonaws.com': 4,\n",
       "          'aoss.amazonaws.com': 4,\n",
       "          'osis.amazonaws.com': 1,\n",
       "          'secretsmanager.amazonaws.com': 1}),\n",
       " 'eventType': Counter({'AwsApiCall': 779, 'AwsConsoleSignIn': 12}),\n",
       " 'readOnly': Counter({'True': 711, 'False': 80}),\n",
       " 'recipientAccountId': Counter({'333333333333': 791}),\n",
       " 'userIdentity_accountId': Counter({'333333333333': 789}),\n",
       " 'userIdentity_sessionContext_attributes_mfaAuthenticated': Counter({'false': 560,\n",
       "          'true': 139}),\n",
       " 'requestParameters_repositoryName': Counter({'trackerdetect/trackeriq-scheduler': 5,\n",
       "          'trackerdetect/trackeriq-audit': 4,\n",
       "          'trackerdetect/trackeriq-db': 4,\n",
       "          'trackerdetect/trackeriq-acm': 6,\n",
       "          'trackerdetect/trackeriq-analysis-model': 4,\n",
       "          'trackerdetect/trackeriq-job': 4,\n",
       "          'trackerdetect/trackeriq-frontend': 4,\n",
       "          'trackerdetect/trackeriq-backoffice': 4})}"
      ]
     },
     "execution_count": 215,
     "metadata": {},
     "output_type": "execute_result"
    }
   ],
   "source": [
    "total_ses_dist"
   ]
  },
  {
   "cell_type": "code",
   "execution_count": 213,
   "id": "13fde34c",
   "metadata": {},
   "outputs": [],
   "source": [
    "outliers_dist = {}\n",
    "for i in range(len(outlier_actions)):\n",
    "    pairs = get_key_value({'k':outlier_actions[i]})\n",
    "    for k1, v in pairs.items():\n",
    "        c = outliers_dist.get(k1)\n",
    "        if c:\n",
    "            c.update({v: 1})\n",
    "        else:\n",
    "            outliers_dist[k1] = Counter({v: 1})"
   ]
  },
  {
   "cell_type": "code",
   "execution_count": 214,
   "id": "472fcba5",
   "metadata": {},
   "outputs": [
    {
     "data": {
      "text/plain": [
       "{'eventCategory': Counter({'Management': 10}),\n",
       " 'eventName': Counter({'ListImages': 8, 'DeleteTable': 2}),\n",
       " 'eventSource': Counter({'ecr.amazonaws.com': 8, 'glue.amazonaws.com': 2}),\n",
       " 'eventType': Counter({'AwsApiCall': 10}),\n",
       " 'readOnly': Counter({'True': 8, 'False': 2}),\n",
       " 'recipientAccountId': Counter({'333333333333': 10}),\n",
       " 'requestParameters_repositoryName': Counter({'trackerdetect/trackeriq-job': 1,\n",
       "          'trackerdetect/trackeriq-audit': 1,\n",
       "          'trackerdetect/trackeriq-db': 1,\n",
       "          'trackerdetect/trackeriq-scheduler': 1,\n",
       "          'trackerdetect/trackeriq-frontend': 1,\n",
       "          'trackerdetect/trackeriq-acm': 1,\n",
       "          'trackerdetect/trackeriq-backoffice': 1,\n",
       "          'trackerdetect/trackeriq-analysis-model': 1}),\n",
       " 'userIdentity_accountId': Counter({'333333333333': 10}),\n",
       " 'userIdentity_sessionContext_attributes_mfaAuthenticated': Counter({'false': 10}),\n",
       " 'errorCode': Counter({'EntityNotFoundException': 1})}"
      ]
     },
     "execution_count": 214,
     "metadata": {},
     "output_type": "execute_result"
    }
   ],
   "source": [
    "outliers_dist"
   ]
  },
  {
   "cell_type": "code",
   "execution_count": 229,
   "id": "a8eb218d",
   "metadata": {},
   "outputs": [],
   "source": [
    "actions_to_correlation = {}\n",
    "for key,counter in outliers_dist.items():\n",
    "    for parameter in counter.keys():\n",
    "        actions_to_correlation[key + '_' + parameter] = counter[parameter]/total_ses_dist[key][parameter]"
   ]
  },
  {
   "cell_type": "code",
   "execution_count": 230,
   "id": "be4dd033",
   "metadata": {},
   "outputs": [
    {
     "data": {
      "text/plain": [
       "{'eventCategory_Management': 0.013927576601671309,\n",
       " 'eventName_ListImages': 1.0,\n",
       " 'eventName_DeleteTable': 0.3333333333333333,\n",
       " 'eventSource_ecr.amazonaws.com': 0.17391304347826086,\n",
       " 'eventSource_glue.amazonaws.com': 0.020202020202020204,\n",
       " 'eventType_AwsApiCall': 0.012836970474967908,\n",
       " 'readOnly_True': 0.011251758087201125,\n",
       " 'readOnly_False': 0.025,\n",
       " 'recipientAccountId_333333333333': 0.012642225031605562,\n",
       " 'requestParameters_repositoryName_trackerdetect/trackeriq-job': 0.25,\n",
       " 'requestParameters_repositoryName_trackerdetect/trackeriq-audit': 0.25,\n",
       " 'requestParameters_repositoryName_trackerdetect/trackeriq-db': 0.25,\n",
       " 'requestParameters_repositoryName_trackerdetect/trackeriq-scheduler': 0.2,\n",
       " 'requestParameters_repositoryName_trackerdetect/trackeriq-frontend': 0.25,\n",
       " 'requestParameters_repositoryName_trackerdetect/trackeriq-acm': 0.16666666666666666,\n",
       " 'requestParameters_repositoryName_trackerdetect/trackeriq-backoffice': 0.25,\n",
       " 'requestParameters_repositoryName_trackerdetect/trackeriq-analysis-model': 0.25,\n",
       " 'userIdentity_accountId_333333333333': 0.012674271229404309,\n",
       " 'userIdentity_sessionContext_attributes_mfaAuthenticated_false': 0.017857142857142856,\n",
       " 'errorCode_EntityNotFoundException': 0.5}"
      ]
     },
     "execution_count": 230,
     "metadata": {},
     "output_type": "execute_result"
    }
   ],
   "source": [
    "actions_to_correlation"
   ]
  },
  {
   "cell_type": "code",
   "execution_count": 223,
   "id": "cbf4271d",
   "metadata": {},
   "outputs": [
    {
     "data": {
      "text/plain": [
       "('ListImages', 1.0)"
      ]
     },
     "execution_count": 223,
     "metadata": {},
     "output_type": "execute_result"
    }
   ],
   "source": [
    "max_parameter = max(actions_to_correlation, key=actions_to_correlation.get)\n",
    "max_parameter,actions_to_correlation[max_parameter]"
   ]
  },
  {
   "cell_type": "code",
   "execution_count": null,
   "id": "c1ee60ca",
   "metadata": {},
   "outputs": [],
   "source": [
    "# Second problem - not many users/clusters are intersecting\n",
    "## I can inspect the histogram of the sizes of different sessions and clusters\n",
    "## also the histogram of the hard intersection between sessions and clusters\n",
    "# perhaps consider some sort of soft intersection - I can check to see if the action itself does not overlap, if still some of the fields overlap - as a soft measure\n",
    "# histogram of intersection between actions\n",
    "# futuristic - develop a dense embedding mechanism that embeds actions that appears together simiarly. Then the session is the average sum of the embeddings."
   ]
  }
 ],
 "metadata": {
  "kernelspec": {
   "display_name": "Python 3 (ipykernel)",
   "language": "python",
   "name": "python3"
  },
  "language_info": {
   "codemirror_mode": {
    "name": "ipython",
    "version": 3
   },
   "file_extension": ".py",
   "mimetype": "text/x-python",
   "name": "python",
   "nbconvert_exporter": "python",
   "pygments_lexer": "ipython3",
   "version": "3.9.12"
  },
  "toc": {
   "base_numbering": 1,
   "nav_menu": {},
   "number_sections": true,
   "sideBar": true,
   "skip_h1_title": false,
   "title_cell": "Table of Contents",
   "title_sidebar": "Contents",
   "toc_cell": false,
   "toc_position": {},
   "toc_section_display": true,
   "toc_window_display": false
  },
  "varInspector": {
   "cols": {
    "lenName": 16,
    "lenType": 16,
    "lenVar": 40
   },
   "kernels_config": {
    "python": {
     "delete_cmd_postfix": "",
     "delete_cmd_prefix": "del ",
     "library": "var_list.py",
     "varRefreshCmd": "print(var_dic_list())"
    },
    "r": {
     "delete_cmd_postfix": ") ",
     "delete_cmd_prefix": "rm(",
     "library": "var_list.r",
     "varRefreshCmd": "cat(var_dic_list()) "
    }
   },
   "types_to_exclude": [
    "module",
    "function",
    "builtin_function_or_method",
    "instance",
    "_Feature"
   ],
   "window_display": false
  }
 },
 "nbformat": 4,
 "nbformat_minor": 5
}
